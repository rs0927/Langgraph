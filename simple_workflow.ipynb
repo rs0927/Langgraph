{
 "cells": [
  {
   "cell_type": "code",
   "execution_count": 1,
   "id": "72006e1d",
   "metadata": {},
   "outputs": [],
   "source": [
    "from langgraph.graph import StateGraph,START,END\n",
    "from typing import TypedDict"
   ]
  },
  {
   "cell_type": "code",
   "execution_count": 2,
   "id": "680305b3",
   "metadata": {},
   "outputs": [],
   "source": [
    "class BMI(TypedDict):\n",
    "    \"\"\"BMI TypedDict to hold the user's height and weight.\"\"\"\n",
    "    height: float\n",
    "    weight: float\n",
    "    BMI: float\n",
    "    category: str\n",
    "\n",
    "\n",
    "\n",
    "def calculate_bmi(state: BMI) -> BMI:\n",
    "    \"\"\"Calculate the BMI based on height and weight.\"\"\"\n",
    "    height_m = state['height'] / 100  # Convert height from cm to m\n",
    "    bmi = state['weight'] / (height_m ** 2)\n",
    "    state['BMI'] = bmi\n",
    "    return state\n",
    "\n",
    "def label_bmi(state: BMI) -> dict:\n",
    "    \"\"\"Label the BMI category and return BMI value and label.\"\"\"\n",
    "    bmi = state['BMI']\n",
    "    if bmi < 18.5:\n",
    "        label = \"Underweight\"\n",
    "    elif 18.5 <= bmi < 24.9:\n",
    "        label = \"Normal weight\"\n",
    "    elif 25 <= bmi < 29.9:\n",
    "        label = \"Overweight\"\n",
    "    else:\n",
    "        label = \"Obesity\"\n",
    "    return {\"BMI\": bmi, \"category\": label}"
   ]
  },
  {
   "cell_type": "code",
   "execution_count": 3,
   "id": "2ac115b7",
   "metadata": {},
   "outputs": [],
   "source": [
    "my_graph = StateGraph(BMI)\n",
    "\n",
    "my_graph.add_node('bmi_calculation', calculate_bmi)\n",
    "my_graph.add_node(\"bmi_label\", label_bmi)\n",
    "\n",
    "my_graph.add_edge(START, 'bmi_calculation')\n",
    "my_graph.add_edge('bmi_calculation', 'bmi_label')\n",
    "my_graph.add_edge('bmi_label', END)\n",
    "\n",
    "\n",
    "workflow = my_graph.compile()"
   ]
  },
  {
   "cell_type": "code",
   "execution_count": 4,
   "id": "891d0e0b",
   "metadata": {},
   "outputs": [
    {
     "data": {
      "text/plain": [
       "{'height': 170,\n",
       " 'weight': 70,\n",
       " 'BMI': 24.221453287197235,\n",
       " 'category': 'Normal weight'}"
      ]
     },
     "execution_count": 4,
     "metadata": {},
     "output_type": "execute_result"
    }
   ],
   "source": [
    "workflow.invoke({\"height\": 170, \"weight\": 70 })"
   ]
  },
  {
   "cell_type": "code",
   "execution_count": 5,
   "id": "d72e034b",
   "metadata": {},
   "outputs": [
    {
     "data": {
      "image/png": "[encoded data removed]",
      "text/plain": [
       "<IPython.core.display.Image object>"
      ]
     },
     "execution_count": 5,
     "metadata": {},
     "output_type": "execute_result"
    }
   ],
   "source": [
    "from IPython.display import Image\n",
    "Image(workflow.get_graph().draw_mermaid_png())"
   ]
  },
  {
   "cell_type": "code",
   "execution_count": null,
   "id": "20cbbee2",
   "metadata": {},
   "outputs": [],
   "source": []
  }
 ],
 "metadata": {
  "kernelspec": {
   "display_name": "venv",
   "language": "python",
   "name": "python3"
  },
  "language_info": {
   "codemirror_mode": {
    "name": "ipython",
    "version": 3
   },
   "file_extension": ".py",
   "mimetype": "text/x-python",
   "name": "python",
   "nbconvert_exporter": "python",
   "pygments_lexer": "ipython3",
   "version": "3.11.4"
  }
 },
 "nbformat": 4,
 "nbformat_minor": 5
}
